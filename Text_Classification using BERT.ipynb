{
 "cells": [
  {
   "cell_type": "code",
   "execution_count": 8,
   "metadata": {
    "colab": {
     "base_uri": "https://localhost:8080/"
    },
    "id": "x_24e396_JBi",
    "outputId": "e6460615-d17e-4ba0-e6d9-59dc6e425f7f"
   },
   "outputs": [
    {
     "name": "stdout",
     "output_type": "stream",
     "text": [
      "Collecting tensorflow_text\n",
      "  Downloading tensorflow_text-2.7.3-cp37-cp37m-manylinux2010_x86_64.whl (4.9 MB)\n",
      "\u001b[K     |████████████████████████████████| 4.9 MB 5.4 MB/s \n",
      "\u001b[?25hRequirement already satisfied: tensorflow<2.8,>=2.7.0 in /usr/local/lib/python3.7/dist-packages (from tensorflow_text) (2.7.0)\n",
      "Requirement already satisfied: tensorflow-hub>=0.8.0 in /usr/local/lib/python3.7/dist-packages (from tensorflow_text) (0.12.0)\n",
      "Requirement already satisfied: numpy>=1.14.5 in /usr/local/lib/python3.7/dist-packages (from tensorflow<2.8,>=2.7.0->tensorflow_text) (1.19.5)\n",
      "Requirement already satisfied: typing-extensions>=3.6.6 in /usr/local/lib/python3.7/dist-packages (from tensorflow<2.8,>=2.7.0->tensorflow_text) (3.10.0.2)\n",
      "Requirement already satisfied: keras-preprocessing>=1.1.1 in /usr/local/lib/python3.7/dist-packages (from tensorflow<2.8,>=2.7.0->tensorflow_text) (1.1.2)\n",
      "Requirement already satisfied: libclang>=9.0.1 in /usr/local/lib/python3.7/dist-packages (from tensorflow<2.8,>=2.7.0->tensorflow_text) (12.0.0)\n",
      "Requirement already satisfied: tensorflow-estimator<2.8,~=2.7.0rc0 in /usr/local/lib/python3.7/dist-packages (from tensorflow<2.8,>=2.7.0->tensorflow_text) (2.7.0)\n",
      "Requirement already satisfied: six>=1.12.0 in /usr/local/lib/python3.7/dist-packages (from tensorflow<2.8,>=2.7.0->tensorflow_text) (1.15.0)\n",
      "Requirement already satisfied: wheel<1.0,>=0.32.0 in /usr/local/lib/python3.7/dist-packages (from tensorflow<2.8,>=2.7.0->tensorflow_text) (0.37.1)\n",
      "Requirement already satisfied: wrapt>=1.11.0 in /usr/local/lib/python3.7/dist-packages (from tensorflow<2.8,>=2.7.0->tensorflow_text) (1.13.3)\n",
      "Requirement already satisfied: tensorboard~=2.6 in /usr/local/lib/python3.7/dist-packages (from tensorflow<2.8,>=2.7.0->tensorflow_text) (2.7.0)\n",
      "Requirement already satisfied: termcolor>=1.1.0 in /usr/local/lib/python3.7/dist-packages (from tensorflow<2.8,>=2.7.0->tensorflow_text) (1.1.0)\n",
      "Requirement already satisfied: astunparse>=1.6.0 in /usr/local/lib/python3.7/dist-packages (from tensorflow<2.8,>=2.7.0->tensorflow_text) (1.6.3)\n",
      "Requirement already satisfied: tensorflow-io-gcs-filesystem>=0.21.0 in /usr/local/lib/python3.7/dist-packages (from tensorflow<2.8,>=2.7.0->tensorflow_text) (0.23.1)\n",
      "Requirement already satisfied: grpcio<2.0,>=1.24.3 in /usr/local/lib/python3.7/dist-packages (from tensorflow<2.8,>=2.7.0->tensorflow_text) (1.43.0)\n",
      "Requirement already satisfied: google-pasta>=0.1.1 in /usr/local/lib/python3.7/dist-packages (from tensorflow<2.8,>=2.7.0->tensorflow_text) (0.2.0)\n",
      "Requirement already satisfied: flatbuffers<3.0,>=1.12 in /usr/local/lib/python3.7/dist-packages (from tensorflow<2.8,>=2.7.0->tensorflow_text) (2.0)\n",
      "Requirement already satisfied: absl-py>=0.4.0 in /usr/local/lib/python3.7/dist-packages (from tensorflow<2.8,>=2.7.0->tensorflow_text) (1.0.0)\n",
      "Requirement already satisfied: keras<2.8,>=2.7.0rc0 in /usr/local/lib/python3.7/dist-packages (from tensorflow<2.8,>=2.7.0->tensorflow_text) (2.7.0)\n",
      "Requirement already satisfied: gast<0.5.0,>=0.2.1 in /usr/local/lib/python3.7/dist-packages (from tensorflow<2.8,>=2.7.0->tensorflow_text) (0.4.0)\n",
      "Requirement already satisfied: protobuf>=3.9.2 in /usr/local/lib/python3.7/dist-packages (from tensorflow<2.8,>=2.7.0->tensorflow_text) (3.17.3)\n",
      "Requirement already satisfied: h5py>=2.9.0 in /usr/local/lib/python3.7/dist-packages (from tensorflow<2.8,>=2.7.0->tensorflow_text) (3.1.0)\n",
      "Requirement already satisfied: opt-einsum>=2.3.2 in /usr/local/lib/python3.7/dist-packages (from tensorflow<2.8,>=2.7.0->tensorflow_text) (3.3.0)\n",
      "Requirement already satisfied: cached-property in /usr/local/lib/python3.7/dist-packages (from h5py>=2.9.0->tensorflow<2.8,>=2.7.0->tensorflow_text) (1.5.2)\n",
      "Requirement already satisfied: setuptools>=41.0.0 in /usr/local/lib/python3.7/dist-packages (from tensorboard~=2.6->tensorflow<2.8,>=2.7.0->tensorflow_text) (57.4.0)\n",
      "Requirement already satisfied: markdown>=2.6.8 in /usr/local/lib/python3.7/dist-packages (from tensorboard~=2.6->tensorflow<2.8,>=2.7.0->tensorflow_text) (3.3.6)\n",
      "Requirement already satisfied: google-auth<3,>=1.6.3 in /usr/local/lib/python3.7/dist-packages (from tensorboard~=2.6->tensorflow<2.8,>=2.7.0->tensorflow_text) (1.35.0)\n",
      "Requirement already satisfied: google-auth-oauthlib<0.5,>=0.4.1 in /usr/local/lib/python3.7/dist-packages (from tensorboard~=2.6->tensorflow<2.8,>=2.7.0->tensorflow_text) (0.4.6)\n",
      "Requirement already satisfied: werkzeug>=0.11.15 in /usr/local/lib/python3.7/dist-packages (from tensorboard~=2.6->tensorflow<2.8,>=2.7.0->tensorflow_text) (1.0.1)\n",
      "Requirement already satisfied: requests<3,>=2.21.0 in /usr/local/lib/python3.7/dist-packages (from tensorboard~=2.6->tensorflow<2.8,>=2.7.0->tensorflow_text) (2.23.0)\n",
      "Requirement already satisfied: tensorboard-plugin-wit>=1.6.0 in /usr/local/lib/python3.7/dist-packages (from tensorboard~=2.6->tensorflow<2.8,>=2.7.0->tensorflow_text) (1.8.1)\n",
      "Requirement already satisfied: tensorboard-data-server<0.7.0,>=0.6.0 in /usr/local/lib/python3.7/dist-packages (from tensorboard~=2.6->tensorflow<2.8,>=2.7.0->tensorflow_text) (0.6.1)\n",
      "Requirement already satisfied: pyasn1-modules>=0.2.1 in /usr/local/lib/python3.7/dist-packages (from google-auth<3,>=1.6.3->tensorboard~=2.6->tensorflow<2.8,>=2.7.0->tensorflow_text) (0.2.8)\n",
      "Requirement already satisfied: cachetools<5.0,>=2.0.0 in /usr/local/lib/python3.7/dist-packages (from google-auth<3,>=1.6.3->tensorboard~=2.6->tensorflow<2.8,>=2.7.0->tensorflow_text) (4.2.4)\n",
      "Requirement already satisfied: rsa<5,>=3.1.4 in /usr/local/lib/python3.7/dist-packages (from google-auth<3,>=1.6.3->tensorboard~=2.6->tensorflow<2.8,>=2.7.0->tensorflow_text) (4.8)\n",
      "Requirement already satisfied: requests-oauthlib>=0.7.0 in /usr/local/lib/python3.7/dist-packages (from google-auth-oauthlib<0.5,>=0.4.1->tensorboard~=2.6->tensorflow<2.8,>=2.7.0->tensorflow_text) (1.3.0)\n",
      "Requirement already satisfied: importlib-metadata>=4.4 in /usr/local/lib/python3.7/dist-packages (from markdown>=2.6.8->tensorboard~=2.6->tensorflow<2.8,>=2.7.0->tensorflow_text) (4.10.1)\n",
      "Requirement already satisfied: zipp>=0.5 in /usr/local/lib/python3.7/dist-packages (from importlib-metadata>=4.4->markdown>=2.6.8->tensorboard~=2.6->tensorflow<2.8,>=2.7.0->tensorflow_text) (3.7.0)\n",
      "Requirement already satisfied: pyasn1<0.5.0,>=0.4.6 in /usr/local/lib/python3.7/dist-packages (from pyasn1-modules>=0.2.1->google-auth<3,>=1.6.3->tensorboard~=2.6->tensorflow<2.8,>=2.7.0->tensorflow_text) (0.4.8)\n",
      "Requirement already satisfied: idna<3,>=2.5 in /usr/local/lib/python3.7/dist-packages (from requests<3,>=2.21.0->tensorboard~=2.6->tensorflow<2.8,>=2.7.0->tensorflow_text) (2.10)\n",
      "Requirement already satisfied: urllib3!=1.25.0,!=1.25.1,<1.26,>=1.21.1 in /usr/local/lib/python3.7/dist-packages (from requests<3,>=2.21.0->tensorboard~=2.6->tensorflow<2.8,>=2.7.0->tensorflow_text) (1.24.3)\n",
      "Requirement already satisfied: chardet<4,>=3.0.2 in /usr/local/lib/python3.7/dist-packages (from requests<3,>=2.21.0->tensorboard~=2.6->tensorflow<2.8,>=2.7.0->tensorflow_text) (3.0.4)\n",
      "Requirement already satisfied: certifi>=2017.4.17 in /usr/local/lib/python3.7/dist-packages (from requests<3,>=2.21.0->tensorboard~=2.6->tensorflow<2.8,>=2.7.0->tensorflow_text) (2021.10.8)\n",
      "Requirement already satisfied: oauthlib>=3.0.0 in /usr/local/lib/python3.7/dist-packages (from requests-oauthlib>=0.7.0->google-auth-oauthlib<0.5,>=0.4.1->tensorboard~=2.6->tensorflow<2.8,>=2.7.0->tensorflow_text) (3.1.1)\n",
      "Installing collected packages: tensorflow-text\n",
      "Successfully installed tensorflow-text-2.7.3\n"
     ]
    }
   ],
   "source": [
    "!pip install tensorflow_text"
   ]
  },
  {
   "cell_type": "code",
   "execution_count": 11,
   "metadata": {
    "id": "MCcA59ao4OI5"
   },
   "outputs": [],
   "source": [
    "import pandas as pd\n",
    "import tensorflow as tf\n",
    "import tensorflow_hub as hub\n",
    "import tensorflow_text as text   # for loading the BERT models"
   ]
  },
  {
   "cell_type": "markdown",
   "metadata": {
    "id": "ckCZOZ-F53Fg"
   },
   "source": [
    "## Import the dataset"
   ]
  },
  {
   "cell_type": "code",
   "execution_count": 12,
   "metadata": {
    "colab": {
     "base_uri": "https://localhost:8080/",
     "height": 206
    },
    "id": "wUkXaUby4Su4",
    "outputId": "66eb10cf-7916-499f-b4e9-371d36925575"
   },
   "outputs": [
    {
     "data": {
      "text/html": [
       "\n",
       "  <div id=\"df-ffc4cbba-96e8-42c1-8345-5cb9d4e95791\">\n",
       "    <div class=\"colab-df-container\">\n",
       "      <div>\n",
       "<style scoped>\n",
       "    .dataframe tbody tr th:only-of-type {\n",
       "        vertical-align: middle;\n",
       "    }\n",
       "\n",
       "    .dataframe tbody tr th {\n",
       "        vertical-align: top;\n",
       "    }\n",
       "\n",
       "    .dataframe thead th {\n",
       "        text-align: right;\n",
       "    }\n",
       "</style>\n",
       "<table border=\"1\" class=\"dataframe\">\n",
       "  <thead>\n",
       "    <tr style=\"text-align: right;\">\n",
       "      <th></th>\n",
       "      <th>Category</th>\n",
       "      <th>Message</th>\n",
       "    </tr>\n",
       "  </thead>\n",
       "  <tbody>\n",
       "    <tr>\n",
       "      <th>0</th>\n",
       "      <td>ham</td>\n",
       "      <td>Go until jurong point, crazy.. Available only ...</td>\n",
       "    </tr>\n",
       "    <tr>\n",
       "      <th>1</th>\n",
       "      <td>ham</td>\n",
       "      <td>Ok lar... Joking wif u oni...</td>\n",
       "    </tr>\n",
       "    <tr>\n",
       "      <th>2</th>\n",
       "      <td>spam</td>\n",
       "      <td>Free entry in 2 a wkly comp to win FA Cup fina...</td>\n",
       "    </tr>\n",
       "    <tr>\n",
       "      <th>3</th>\n",
       "      <td>ham</td>\n",
       "      <td>U dun say so early hor... U c already then say...</td>\n",
       "    </tr>\n",
       "    <tr>\n",
       "      <th>4</th>\n",
       "      <td>ham</td>\n",
       "      <td>Nah I don't think he goes to usf, he lives aro...</td>\n",
       "    </tr>\n",
       "  </tbody>\n",
       "</table>\n",
       "</div>\n",
       "      <button class=\"colab-df-convert\" onclick=\"convertToInteractive('df-ffc4cbba-96e8-42c1-8345-5cb9d4e95791')\"\n",
       "              title=\"Convert this dataframe to an interactive table.\"\n",
       "              style=\"display:none;\">\n",
       "        \n",
       "  <svg xmlns=\"http://www.w3.org/2000/svg\" height=\"24px\"viewBox=\"0 0 24 24\"\n",
       "       width=\"24px\">\n",
       "    <path d=\"M0 0h24v24H0V0z\" fill=\"none\"/>\n",
       "    <path d=\"M18.56 5.44l.94 2.06.94-2.06 2.06-.94-2.06-.94-.94-2.06-.94 2.06-2.06.94zm-11 1L8.5 8.5l.94-2.06 2.06-.94-2.06-.94L8.5 2.5l-.94 2.06-2.06.94zm10 10l.94 2.06.94-2.06 2.06-.94-2.06-.94-.94-2.06-.94 2.06-2.06.94z\"/><path d=\"M17.41 7.96l-1.37-1.37c-.4-.4-.92-.59-1.43-.59-.52 0-1.04.2-1.43.59L10.3 9.45l-7.72 7.72c-.78.78-.78 2.05 0 2.83L4 21.41c.39.39.9.59 1.41.59.51 0 1.02-.2 1.41-.59l7.78-7.78 2.81-2.81c.8-.78.8-2.07 0-2.86zM5.41 20L4 18.59l7.72-7.72 1.47 1.35L5.41 20z\"/>\n",
       "  </svg>\n",
       "      </button>\n",
       "      \n",
       "  <style>\n",
       "    .colab-df-container {\n",
       "      display:flex;\n",
       "      flex-wrap:wrap;\n",
       "      gap: 12px;\n",
       "    }\n",
       "\n",
       "    .colab-df-convert {\n",
       "      background-color: #E8F0FE;\n",
       "      border: none;\n",
       "      border-radius: 50%;\n",
       "      cursor: pointer;\n",
       "      display: none;\n",
       "      fill: #1967D2;\n",
       "      height: 32px;\n",
       "      padding: 0 0 0 0;\n",
       "      width: 32px;\n",
       "    }\n",
       "\n",
       "    .colab-df-convert:hover {\n",
       "      background-color: #E2EBFA;\n",
       "      box-shadow: 0px 1px 2px rgba(60, 64, 67, 0.3), 0px 1px 3px 1px rgba(60, 64, 67, 0.15);\n",
       "      fill: #174EA6;\n",
       "    }\n",
       "\n",
       "    [theme=dark] .colab-df-convert {\n",
       "      background-color: #3B4455;\n",
       "      fill: #D2E3FC;\n",
       "    }\n",
       "\n",
       "    [theme=dark] .colab-df-convert:hover {\n",
       "      background-color: #434B5C;\n",
       "      box-shadow: 0px 1px 3px 1px rgba(0, 0, 0, 0.15);\n",
       "      filter: drop-shadow(0px 1px 2px rgba(0, 0, 0, 0.3));\n",
       "      fill: #FFFFFF;\n",
       "    }\n",
       "  </style>\n",
       "\n",
       "      <script>\n",
       "        const buttonEl =\n",
       "          document.querySelector('#df-ffc4cbba-96e8-42c1-8345-5cb9d4e95791 button.colab-df-convert');\n",
       "        buttonEl.style.display =\n",
       "          google.colab.kernel.accessAllowed ? 'block' : 'none';\n",
       "\n",
       "        async function convertToInteractive(key) {\n",
       "          const element = document.querySelector('#df-ffc4cbba-96e8-42c1-8345-5cb9d4e95791');\n",
       "          const dataTable =\n",
       "            await google.colab.kernel.invokeFunction('convertToInteractive',\n",
       "                                                     [key], {});\n",
       "          if (!dataTable) return;\n",
       "\n",
       "          const docLinkHtml = 'Like what you see? Visit the ' +\n",
       "            '<a target=\"_blank\" href=https://colab.research.google.com/notebooks/data_table.ipynb>data table notebook</a>'\n",
       "            + ' to learn more about interactive tables.';\n",
       "          element.innerHTML = '';\n",
       "          dataTable['output_type'] = 'display_data';\n",
       "          await google.colab.output.renderOutput(dataTable, element);\n",
       "          const docLink = document.createElement('div');\n",
       "          docLink.innerHTML = docLinkHtml;\n",
       "          element.appendChild(docLink);\n",
       "        }\n",
       "      </script>\n",
       "    </div>\n",
       "  </div>\n",
       "  "
      ],
      "text/plain": [
       "  Category                                            Message\n",
       "0      ham  Go until jurong point, crazy.. Available only ...\n",
       "1      ham                      Ok lar... Joking wif u oni...\n",
       "2     spam  Free entry in 2 a wkly comp to win FA Cup fina...\n",
       "3      ham  U dun say so early hor... U c already then say...\n",
       "4      ham  Nah I don't think he goes to usf, he lives aro..."
      ]
     },
     "execution_count": 12,
     "metadata": {},
     "output_type": "execute_result"
    }
   ],
   "source": [
    "df = pd.read_csv(\"spam.csv\")\n",
    "df.head()"
   ]
  },
  {
   "cell_type": "code",
   "execution_count": 13,
   "metadata": {
    "colab": {
     "base_uri": "https://localhost:8080/",
     "height": 174
    },
    "id": "lhzr9zGJ4Xp0",
    "outputId": "cddbc1be-c2a5-4a60-fa8d-469e6187cf63"
   },
   "outputs": [
    {
     "data": {
      "text/html": [
       "\n",
       "  <div id=\"df-4cd3fda6-189b-4b68-b696-6a6684668968\">\n",
       "    <div class=\"colab-df-container\">\n",
       "      <div>\n",
       "<style scoped>\n",
       "    .dataframe tbody tr th:only-of-type {\n",
       "        vertical-align: middle;\n",
       "    }\n",
       "\n",
       "    .dataframe tbody tr th {\n",
       "        vertical-align: top;\n",
       "    }\n",
       "\n",
       "    .dataframe thead th {\n",
       "        text-align: right;\n",
       "    }\n",
       "</style>\n",
       "<table border=\"1\" class=\"dataframe\">\n",
       "  <thead>\n",
       "    <tr style=\"text-align: right;\">\n",
       "      <th></th>\n",
       "      <th>Category</th>\n",
       "      <th>Message</th>\n",
       "    </tr>\n",
       "  </thead>\n",
       "  <tbody>\n",
       "    <tr>\n",
       "      <th>count</th>\n",
       "      <td>5572</td>\n",
       "      <td>5572</td>\n",
       "    </tr>\n",
       "    <tr>\n",
       "      <th>unique</th>\n",
       "      <td>2</td>\n",
       "      <td>5157</td>\n",
       "    </tr>\n",
       "    <tr>\n",
       "      <th>top</th>\n",
       "      <td>ham</td>\n",
       "      <td>Sorry, I'll call later</td>\n",
       "    </tr>\n",
       "    <tr>\n",
       "      <th>freq</th>\n",
       "      <td>4825</td>\n",
       "      <td>30</td>\n",
       "    </tr>\n",
       "  </tbody>\n",
       "</table>\n",
       "</div>\n",
       "      <button class=\"colab-df-convert\" onclick=\"convertToInteractive('df-4cd3fda6-189b-4b68-b696-6a6684668968')\"\n",
       "              title=\"Convert this dataframe to an interactive table.\"\n",
       "              style=\"display:none;\">\n",
       "        \n",
       "  <svg xmlns=\"http://www.w3.org/2000/svg\" height=\"24px\"viewBox=\"0 0 24 24\"\n",
       "       width=\"24px\">\n",
       "    <path d=\"M0 0h24v24H0V0z\" fill=\"none\"/>\n",
       "    <path d=\"M18.56 5.44l.94 2.06.94-2.06 2.06-.94-2.06-.94-.94-2.06-.94 2.06-2.06.94zm-11 1L8.5 8.5l.94-2.06 2.06-.94-2.06-.94L8.5 2.5l-.94 2.06-2.06.94zm10 10l.94 2.06.94-2.06 2.06-.94-2.06-.94-.94-2.06-.94 2.06-2.06.94z\"/><path d=\"M17.41 7.96l-1.37-1.37c-.4-.4-.92-.59-1.43-.59-.52 0-1.04.2-1.43.59L10.3 9.45l-7.72 7.72c-.78.78-.78 2.05 0 2.83L4 21.41c.39.39.9.59 1.41.59.51 0 1.02-.2 1.41-.59l7.78-7.78 2.81-2.81c.8-.78.8-2.07 0-2.86zM5.41 20L4 18.59l7.72-7.72 1.47 1.35L5.41 20z\"/>\n",
       "  </svg>\n",
       "      </button>\n",
       "      \n",
       "  <style>\n",
       "    .colab-df-container {\n",
       "      display:flex;\n",
       "      flex-wrap:wrap;\n",
       "      gap: 12px;\n",
       "    }\n",
       "\n",
       "    .colab-df-convert {\n",
       "      background-color: #E8F0FE;\n",
       "      border: none;\n",
       "      border-radius: 50%;\n",
       "      cursor: pointer;\n",
       "      display: none;\n",
       "      fill: #1967D2;\n",
       "      height: 32px;\n",
       "      padding: 0 0 0 0;\n",
       "      width: 32px;\n",
       "    }\n",
       "\n",
       "    .colab-df-convert:hover {\n",
       "      background-color: #E2EBFA;\n",
       "      box-shadow: 0px 1px 2px rgba(60, 64, 67, 0.3), 0px 1px 3px 1px rgba(60, 64, 67, 0.15);\n",
       "      fill: #174EA6;\n",
       "    }\n",
       "\n",
       "    [theme=dark] .colab-df-convert {\n",
       "      background-color: #3B4455;\n",
       "      fill: #D2E3FC;\n",
       "    }\n",
       "\n",
       "    [theme=dark] .colab-df-convert:hover {\n",
       "      background-color: #434B5C;\n",
       "      box-shadow: 0px 1px 3px 1px rgba(0, 0, 0, 0.15);\n",
       "      filter: drop-shadow(0px 1px 2px rgba(0, 0, 0, 0.3));\n",
       "      fill: #FFFFFF;\n",
       "    }\n",
       "  </style>\n",
       "\n",
       "      <script>\n",
       "        const buttonEl =\n",
       "          document.querySelector('#df-4cd3fda6-189b-4b68-b696-6a6684668968 button.colab-df-convert');\n",
       "        buttonEl.style.display =\n",
       "          google.colab.kernel.accessAllowed ? 'block' : 'none';\n",
       "\n",
       "        async function convertToInteractive(key) {\n",
       "          const element = document.querySelector('#df-4cd3fda6-189b-4b68-b696-6a6684668968');\n",
       "          const dataTable =\n",
       "            await google.colab.kernel.invokeFunction('convertToInteractive',\n",
       "                                                     [key], {});\n",
       "          if (!dataTable) return;\n",
       "\n",
       "          const docLinkHtml = 'Like what you see? Visit the ' +\n",
       "            '<a target=\"_blank\" href=https://colab.research.google.com/notebooks/data_table.ipynb>data table notebook</a>'\n",
       "            + ' to learn more about interactive tables.';\n",
       "          element.innerHTML = '';\n",
       "          dataTable['output_type'] = 'display_data';\n",
       "          await google.colab.output.renderOutput(dataTable, element);\n",
       "          const docLink = document.createElement('div');\n",
       "          docLink.innerHTML = docLinkHtml;\n",
       "          element.appendChild(docLink);\n",
       "        }\n",
       "      </script>\n",
       "    </div>\n",
       "  </div>\n",
       "  "
      ],
      "text/plain": [
       "       Category                 Message\n",
       "count      5572                    5572\n",
       "unique        2                    5157\n",
       "top         ham  Sorry, I'll call later\n",
       "freq       4825                      30"
      ]
     },
     "execution_count": 13,
     "metadata": {},
     "output_type": "execute_result"
    }
   ],
   "source": [
    "df.describe()"
   ]
  },
  {
   "cell_type": "code",
   "execution_count": 12,
   "metadata": {
    "colab": {
     "base_uri": "https://localhost:8080/"
    },
    "id": "k56wuTXP6EHN",
    "outputId": "c91b7b8a-ae11-4087-a178-01e801bba04c"
   },
   "outputs": [
    {
     "data": {
      "text/plain": [
       "ham     4825\n",
       "spam     747\n",
       "Name: Category, dtype: int64"
      ]
     },
     "execution_count": 12,
     "metadata": {},
     "output_type": "execute_result"
    }
   ],
   "source": [
    "df['Category'].value_counts()"
   ]
  },
  {
   "cell_type": "code",
   "execution_count": 13,
   "metadata": {
    "colab": {
     "base_uri": "https://localhost:8080/"
    },
    "id": "ApxHwABB6N7O",
    "outputId": "1112ed59-1750-43c4-cdd3-1a85b5d97728"
   },
   "outputs": [
    {
     "data": {
      "text/plain": [
       "0.15481865284974095"
      ]
     },
     "execution_count": 13,
     "metadata": {},
     "output_type": "execute_result"
    }
   ],
   "source": [
    "747/4825"
   ]
  },
  {
   "cell_type": "markdown",
   "metadata": {
    "id": "P_2gbGPJ6auQ"
   },
   "source": [
    "**Only 15% are spam mail This indicate class imbalance**"
   ]
  },
  {
   "cell_type": "code",
   "execution_count": 14,
   "metadata": {
    "id": "VDZRXC6s6_4m"
   },
   "outputs": [],
   "source": [
    "required_sample = df[df['Category']=='spam'].shape[0]"
   ]
  },
  {
   "cell_type": "code",
   "execution_count": 15,
   "metadata": {
    "id": "33kbvH6O6Xm3"
   },
   "outputs": [],
   "source": [
    "df[df['Category'] =='ham']=df[df['Category'] =='ham'].sample(required_sample)"
   ]
  },
  {
   "cell_type": "code",
   "execution_count": 16,
   "metadata": {
    "colab": {
     "base_uri": "https://localhost:8080/"
    },
    "id": "XCfD47QB6sqk",
    "outputId": "711ee26c-8fc0-423c-ffcd-071b8fd72952"
   },
   "outputs": [
    {
     "data": {
      "text/plain": [
       "(5572, 2)"
      ]
     },
     "execution_count": 16,
     "metadata": {},
     "output_type": "execute_result"
    }
   ],
   "source": [
    "df.shape"
   ]
  },
  {
   "cell_type": "code",
   "execution_count": 17,
   "metadata": {
    "colab": {
     "base_uri": "https://localhost:8080/"
    },
    "id": "IUDJwrY17e1w",
    "outputId": "e8ff1ea5-7876-435c-92a1-f2ae0e5dac50"
   },
   "outputs": [
    {
     "data": {
      "text/plain": [
       "spam    747\n",
       "ham     747\n",
       "Name: Category, dtype: int64"
      ]
     },
     "execution_count": 17,
     "metadata": {},
     "output_type": "execute_result"
    }
   ],
   "source": [
    "df['Category'].value_counts()"
   ]
  },
  {
   "cell_type": "code",
   "execution_count": 18,
   "metadata": {
    "colab": {
     "base_uri": "https://localhost:8080/"
    },
    "id": "3vZThhLs7kYV",
    "outputId": "420c42fa-b707-4523-8b1e-fbb7a0dcefbe"
   },
   "outputs": [
    {
     "data": {
      "text/plain": [
       "Category    4078\n",
       "Message     4078\n",
       "dtype: int64"
      ]
     },
     "execution_count": 18,
     "metadata": {},
     "output_type": "execute_result"
    }
   ],
   "source": [
    "df.isnull().sum()"
   ]
  },
  {
   "cell_type": "code",
   "execution_count": 19,
   "metadata": {
    "id": "7FVs-9Ox7oWp"
   },
   "outputs": [],
   "source": [
    "df.dropna(axis=0,inplace= True)"
   ]
  },
  {
   "cell_type": "code",
   "execution_count": 20,
   "metadata": {
    "colab": {
     "base_uri": "https://localhost:8080/"
    },
    "id": "Y-JsA1dT7yKw",
    "outputId": "24c56913-f66f-46fd-8e62-7ae79dceb7b6"
   },
   "outputs": [
    {
     "data": {
      "text/plain": [
       "Category    0\n",
       "Message     0\n",
       "dtype: int64"
      ]
     },
     "execution_count": 20,
     "metadata": {},
     "output_type": "execute_result"
    }
   ],
   "source": [
    "df.isnull().sum()"
   ]
  },
  {
   "cell_type": "code",
   "execution_count": 22,
   "metadata": {
    "colab": {
     "base_uri": "https://localhost:8080/"
    },
    "id": "bzjaECPH78cS",
    "outputId": "b92a533e-4b8f-4c73-c439-fef51dede5f7"
   },
   "outputs": [
    {
     "data": {
      "text/plain": [
       "spam    747\n",
       "ham     747\n",
       "Name: Category, dtype: int64"
      ]
     },
     "execution_count": 22,
     "metadata": {},
     "output_type": "execute_result"
    }
   ],
   "source": [
    "df['Category'].value_counts()"
   ]
  },
  {
   "cell_type": "code",
   "execution_count": 21,
   "metadata": {
    "colab": {
     "base_uri": "https://localhost:8080/"
    },
    "id": "vXDc6oVS8bzJ",
    "outputId": "26ad91c8-eeeb-4a8f-c84b-e4678c8f6c59"
   },
   "outputs": [
    {
     "data": {
      "text/plain": [
       "0        ham\n",
       "2       spam\n",
       "5       spam\n",
       "8       spam\n",
       "9       spam\n",
       "        ... \n",
       "5550     ham\n",
       "5565     ham\n",
       "5566    spam\n",
       "5567    spam\n",
       "5568     ham\n",
       "Name: Category, Length: 1494, dtype: object"
      ]
     },
     "execution_count": 21,
     "metadata": {},
     "output_type": "execute_result"
    }
   ],
   "source": [
    "df['Category']"
   ]
  },
  {
   "cell_type": "code",
   "execution_count": 23,
   "metadata": {
    "id": "c9q_PVdf7_Bg"
   },
   "outputs": [],
   "source": [
    "df['spam'] = df['Category'].apply(lambda x: 0 if x=='ham' else 1)"
   ]
  },
  {
   "cell_type": "code",
   "execution_count": 24,
   "metadata": {
    "colab": {
     "base_uri": "https://localhost:8080/",
     "height": 423
    },
    "id": "usC6n1vo8WUz",
    "outputId": "5398d545-b3e3-43b7-d932-459d74f8ae55"
   },
   "outputs": [
    {
     "data": {
      "text/html": [
       "\n",
       "  <div id=\"df-eb600815-55a4-40dd-a55c-36b2cc787c4d\">\n",
       "    <div class=\"colab-df-container\">\n",
       "      <div>\n",
       "<style scoped>\n",
       "    .dataframe tbody tr th:only-of-type {\n",
       "        vertical-align: middle;\n",
       "    }\n",
       "\n",
       "    .dataframe tbody tr th {\n",
       "        vertical-align: top;\n",
       "    }\n",
       "\n",
       "    .dataframe thead th {\n",
       "        text-align: right;\n",
       "    }\n",
       "</style>\n",
       "<table border=\"1\" class=\"dataframe\">\n",
       "  <thead>\n",
       "    <tr style=\"text-align: right;\">\n",
       "      <th></th>\n",
       "      <th>Category</th>\n",
       "      <th>Message</th>\n",
       "      <th>spam</th>\n",
       "    </tr>\n",
       "  </thead>\n",
       "  <tbody>\n",
       "    <tr>\n",
       "      <th>0</th>\n",
       "      <td>ham</td>\n",
       "      <td>Go until jurong point, crazy.. Available only ...</td>\n",
       "      <td>0</td>\n",
       "    </tr>\n",
       "    <tr>\n",
       "      <th>2</th>\n",
       "      <td>spam</td>\n",
       "      <td>Free entry in 2 a wkly comp to win FA Cup fina...</td>\n",
       "      <td>1</td>\n",
       "    </tr>\n",
       "    <tr>\n",
       "      <th>5</th>\n",
       "      <td>spam</td>\n",
       "      <td>FreeMsg Hey there darling it's been 3 week's n...</td>\n",
       "      <td>1</td>\n",
       "    </tr>\n",
       "    <tr>\n",
       "      <th>8</th>\n",
       "      <td>spam</td>\n",
       "      <td>WINNER!! As a valued network customer you have...</td>\n",
       "      <td>1</td>\n",
       "    </tr>\n",
       "    <tr>\n",
       "      <th>9</th>\n",
       "      <td>spam</td>\n",
       "      <td>Had your mobile 11 months or more? U R entitle...</td>\n",
       "      <td>1</td>\n",
       "    </tr>\n",
       "    <tr>\n",
       "      <th>...</th>\n",
       "      <td>...</td>\n",
       "      <td>...</td>\n",
       "      <td>...</td>\n",
       "    </tr>\n",
       "    <tr>\n",
       "      <th>5550</th>\n",
       "      <td>ham</td>\n",
       "      <td>Cool, what time you think you can get here?</td>\n",
       "      <td>0</td>\n",
       "    </tr>\n",
       "    <tr>\n",
       "      <th>5565</th>\n",
       "      <td>ham</td>\n",
       "      <td>Huh y lei...</td>\n",
       "      <td>0</td>\n",
       "    </tr>\n",
       "    <tr>\n",
       "      <th>5566</th>\n",
       "      <td>spam</td>\n",
       "      <td>REMINDER FROM O2: To get 2.50 pounds free call...</td>\n",
       "      <td>1</td>\n",
       "    </tr>\n",
       "    <tr>\n",
       "      <th>5567</th>\n",
       "      <td>spam</td>\n",
       "      <td>This is the 2nd time we have tried 2 contact u...</td>\n",
       "      <td>1</td>\n",
       "    </tr>\n",
       "    <tr>\n",
       "      <th>5568</th>\n",
       "      <td>ham</td>\n",
       "      <td>Will ü b going to esplanade fr home?</td>\n",
       "      <td>0</td>\n",
       "    </tr>\n",
       "  </tbody>\n",
       "</table>\n",
       "<p>1494 rows × 3 columns</p>\n",
       "</div>\n",
       "      <button class=\"colab-df-convert\" onclick=\"convertToInteractive('df-eb600815-55a4-40dd-a55c-36b2cc787c4d')\"\n",
       "              title=\"Convert this dataframe to an interactive table.\"\n",
       "              style=\"display:none;\">\n",
       "        \n",
       "  <svg xmlns=\"http://www.w3.org/2000/svg\" height=\"24px\"viewBox=\"0 0 24 24\"\n",
       "       width=\"24px\">\n",
       "    <path d=\"M0 0h24v24H0V0z\" fill=\"none\"/>\n",
       "    <path d=\"M18.56 5.44l.94 2.06.94-2.06 2.06-.94-2.06-.94-.94-2.06-.94 2.06-2.06.94zm-11 1L8.5 8.5l.94-2.06 2.06-.94-2.06-.94L8.5 2.5l-.94 2.06-2.06.94zm10 10l.94 2.06.94-2.06 2.06-.94-2.06-.94-.94-2.06-.94 2.06-2.06.94z\"/><path d=\"M17.41 7.96l-1.37-1.37c-.4-.4-.92-.59-1.43-.59-.52 0-1.04.2-1.43.59L10.3 9.45l-7.72 7.72c-.78.78-.78 2.05 0 2.83L4 21.41c.39.39.9.59 1.41.59.51 0 1.02-.2 1.41-.59l7.78-7.78 2.81-2.81c.8-.78.8-2.07 0-2.86zM5.41 20L4 18.59l7.72-7.72 1.47 1.35L5.41 20z\"/>\n",
       "  </svg>\n",
       "      </button>\n",
       "      \n",
       "  <style>\n",
       "    .colab-df-container {\n",
       "      display:flex;\n",
       "      flex-wrap:wrap;\n",
       "      gap: 12px;\n",
       "    }\n",
       "\n",
       "    .colab-df-convert {\n",
       "      background-color: #E8F0FE;\n",
       "      border: none;\n",
       "      border-radius: 50%;\n",
       "      cursor: pointer;\n",
       "      display: none;\n",
       "      fill: #1967D2;\n",
       "      height: 32px;\n",
       "      padding: 0 0 0 0;\n",
       "      width: 32px;\n",
       "    }\n",
       "\n",
       "    .colab-df-convert:hover {\n",
       "      background-color: #E2EBFA;\n",
       "      box-shadow: 0px 1px 2px rgba(60, 64, 67, 0.3), 0px 1px 3px 1px rgba(60, 64, 67, 0.15);\n",
       "      fill: #174EA6;\n",
       "    }\n",
       "\n",
       "    [theme=dark] .colab-df-convert {\n",
       "      background-color: #3B4455;\n",
       "      fill: #D2E3FC;\n",
       "    }\n",
       "\n",
       "    [theme=dark] .colab-df-convert:hover {\n",
       "      background-color: #434B5C;\n",
       "      box-shadow: 0px 1px 3px 1px rgba(0, 0, 0, 0.15);\n",
       "      filter: drop-shadow(0px 1px 2px rgba(0, 0, 0, 0.3));\n",
       "      fill: #FFFFFF;\n",
       "    }\n",
       "  </style>\n",
       "\n",
       "      <script>\n",
       "        const buttonEl =\n",
       "          document.querySelector('#df-eb600815-55a4-40dd-a55c-36b2cc787c4d button.colab-df-convert');\n",
       "        buttonEl.style.display =\n",
       "          google.colab.kernel.accessAllowed ? 'block' : 'none';\n",
       "\n",
       "        async function convertToInteractive(key) {\n",
       "          const element = document.querySelector('#df-eb600815-55a4-40dd-a55c-36b2cc787c4d');\n",
       "          const dataTable =\n",
       "            await google.colab.kernel.invokeFunction('convertToInteractive',\n",
       "                                                     [key], {});\n",
       "          if (!dataTable) return;\n",
       "\n",
       "          const docLinkHtml = 'Like what you see? Visit the ' +\n",
       "            '<a target=\"_blank\" href=https://colab.research.google.com/notebooks/data_table.ipynb>data table notebook</a>'\n",
       "            + ' to learn more about interactive tables.';\n",
       "          element.innerHTML = '';\n",
       "          dataTable['output_type'] = 'display_data';\n",
       "          await google.colab.output.renderOutput(dataTable, element);\n",
       "          const docLink = document.createElement('div');\n",
       "          docLink.innerHTML = docLinkHtml;\n",
       "          element.appendChild(docLink);\n",
       "        }\n",
       "      </script>\n",
       "    </div>\n",
       "  </div>\n",
       "  "
      ],
      "text/plain": [
       "     Category                                            Message  spam\n",
       "0         ham  Go until jurong point, crazy.. Available only ...     0\n",
       "2        spam  Free entry in 2 a wkly comp to win FA Cup fina...     1\n",
       "5        spam  FreeMsg Hey there darling it's been 3 week's n...     1\n",
       "8        spam  WINNER!! As a valued network customer you have...     1\n",
       "9        spam  Had your mobile 11 months or more? U R entitle...     1\n",
       "...       ...                                                ...   ...\n",
       "5550      ham        Cool, what time you think you can get here?     0\n",
       "5565      ham                                       Huh y lei...     0\n",
       "5566     spam  REMINDER FROM O2: To get 2.50 pounds free call...     1\n",
       "5567     spam  This is the 2nd time we have tried 2 contact u...     1\n",
       "5568      ham               Will ü b going to esplanade fr home?     0\n",
       "\n",
       "[1494 rows x 3 columns]"
      ]
     },
     "execution_count": 24,
     "metadata": {},
     "output_type": "execute_result"
    }
   ],
   "source": [
    "df"
   ]
  },
  {
   "cell_type": "code",
   "execution_count": 25,
   "metadata": {
    "id": "Z09w2edS8oVz"
   },
   "outputs": [],
   "source": [
    "from sklearn.model_selection import train_test_split\n",
    "\n",
    "X_train, X_test, y_train, y_test = train_test_split(df['Message'],df['spam'],stratify= df['spam'])"
   ]
  },
  {
   "cell_type": "code",
   "execution_count": 39,
   "metadata": {
    "colab": {
     "base_uri": "https://localhost:8080/"
    },
    "id": "1buqAuTh-dnk",
    "outputId": "595afd27-de21-4545-d7f7-1cac5fe5b47e"
   },
   "outputs": [
    {
     "data": {
      "text/plain": [
       "1205    WIN a year supply of CDs 4 a store of ur choic...\n",
       "1578    Remember all those whom i hurt during days of ...\n",
       "3695    Ok im not sure what time i finish tomorrow but...\n",
       "4948    Great News! Call FREEFONE 08006344447 to claim...\n",
       "1168              Lol now I'm after that hot air balloon!\n",
       "Name: Message, dtype: object"
      ]
     },
     "execution_count": 39,
     "metadata": {},
     "output_type": "execute_result"
    }
   ],
   "source": [
    "X_train.head()"
   ]
  },
  {
   "cell_type": "code",
   "execution_count": 26,
   "metadata": {
    "id": "KvX0Cb_W-fLJ"
   },
   "outputs": [],
   "source": [
    "bert_preprocess = hub.KerasLayer(\"https://tfhub.dev/tensorflow/bert_en_uncased_preprocess/3\")\n",
    "bert_encoder = hub.KerasLayer(\"https://tfhub.dev/tensorflow/bert_en_uncased_L-12_H-768_A-12/4\")\n"
   ]
  },
  {
   "cell_type": "markdown",
   "metadata": {
    "id": "76s83uks_1p1"
   },
   "source": [
    "## BERT Model"
   ]
  },
  {
   "cell_type": "markdown",
   "metadata": {
    "id": "2w7o3Xta_8OU"
   },
   "source": [
    "**For this we are using Function model**"
   ]
  },
  {
   "cell_type": "code",
   "execution_count": 27,
   "metadata": {
    "id": "aXuG7o-t_5xN"
   },
   "outputs": [],
   "source": [
    "# Bert layer\n",
    "text_input = tf.keras.layers.Input(shape=(),dtype=tf.string,name='text')\n",
    "preprocessed_text = bert_preprocess(text_input)\n",
    "output = bert_encoder(preprocessed_text)\n",
    "\n",
    "# Neural network layer\n",
    "l1 = tf.keras.layers.Dropout(0.1, name= 'dropout')(output['pooled_output'])\n",
    "l2 = tf.keras.layers.Dense(1, activation='sigmoid',name= 'output')(l1)\n",
    "\n",
    "# Use input and output to contruct a final model\n",
    "model = tf.keras.Model(inputs=[text_input],outputs=[l2])"
   ]
  },
  {
   "cell_type": "code",
   "execution_count": 28,
   "metadata": {
    "colab": {
     "base_uri": "https://localhost:8080/"
    },
    "id": "hh7iqn_QAF9q",
    "outputId": "689992cf-d61a-4a41-cfe3-e4135bdd63ae"
   },
   "outputs": [
    {
     "name": "stdout",
     "output_type": "stream",
     "text": [
      "Model: \"model\"\n",
      "__________________________________________________________________________________________________\n",
      " Layer (type)                   Output Shape         Param #     Connected to                     \n",
      "==================================================================================================\n",
      " text (InputLayer)              [(None,)]            0           []                               \n",
      "                                                                                                  \n",
      " keras_layer (KerasLayer)       {'input_type_ids':   0           ['text[0][0]']                   \n",
      "                                (None, 128),                                                      \n",
      "                                 'input_mask': (Non                                               \n",
      "                                e, 128),                                                          \n",
      "                                 'input_word_ids':                                                \n",
      "                                (None, 128)}                                                      \n",
      "                                                                                                  \n",
      " keras_layer_1 (KerasLayer)     {'sequence_output':  109482241   ['keras_layer[0][0]',            \n",
      "                                 (None, 128, 768),                'keras_layer[0][1]',            \n",
      "                                 'pooled_output': (               'keras_layer[0][2]']            \n",
      "                                None, 768),                                                       \n",
      "                                 'default': (None,                                                \n",
      "                                768),                                                             \n",
      "                                 'encoder_outputs':                                               \n",
      "                                 [(None, 128, 768),                                               \n",
      "                                 (None, 128, 768),                                                \n",
      "                                 (None, 128, 768),                                                \n",
      "                                 (None, 128, 768),                                                \n",
      "                                 (None, 128, 768),                                                \n",
      "                                 (None, 128, 768),                                                \n",
      "                                 (None, 128, 768),                                                \n",
      "                                 (None, 128, 768),                                                \n",
      "                                 (None, 128, 768),                                                \n",
      "                                 (None, 128, 768),                                                \n",
      "                                 (None, 128, 768),                                                \n",
      "                                 (None, 128, 768)]}                                               \n",
      "                                                                                                  \n",
      " dropout (Dropout)              (None, 768)          0           ['keras_layer_1[0][13]']         \n",
      "                                                                                                  \n",
      " output (Dense)                 (None, 1)            769         ['dropout[0][0]']                \n",
      "                                                                                                  \n",
      "==================================================================================================\n",
      "Total params: 109,483,010\n",
      "Trainable params: 769\n",
      "Non-trainable params: 109,482,241\n",
      "__________________________________________________________________________________________________\n"
     ]
    }
   ],
   "source": [
    "model.summary()"
   ]
  },
  {
   "cell_type": "code",
   "execution_count": 51,
   "metadata": {
    "colab": {
     "base_uri": "https://localhost:8080/"
    },
    "id": "kxgeeOLKCMgz",
    "outputId": "75a71577-73ba-401b-87da-bfd0123f088d"
   },
   "outputs": [
    {
     "data": {
      "text/plain": [
       "1120"
      ]
     },
     "execution_count": 51,
     "metadata": {},
     "output_type": "execute_result"
    }
   ],
   "source": [
    "len(X_train)"
   ]
  },
  {
   "cell_type": "code",
   "execution_count": 29,
   "metadata": {
    "id": "K_8poHU9Cey8"
   },
   "outputs": [],
   "source": [
    "METRICS = [\n",
    "      tf.keras.metrics.BinaryAccuracy(name='accuracy'),\n",
    "      tf.keras.metrics.Precision(name='precision'),\n",
    "      tf.keras.metrics.Recall(name='recall')\n",
    "]\n",
    "\n",
    "\n",
    "model.compile(optimizer='adam',\n",
    "              loss='binary_crossentropy',\n",
    "              metrics = METRICS)"
   ]
  },
  {
   "cell_type": "code",
   "execution_count": 30,
   "metadata": {
    "colab": {
     "base_uri": "https://localhost:8080/"
    },
    "id": "QnzOsURRC1qt",
    "outputId": "d441f060-ab4c-43c0-9cf1-9c41b7d9a37a",
    "scrolled": true
   },
   "outputs": [
    {
     "name": "stdout",
     "output_type": "stream",
     "text": [
      "Epoch 1/10\n",
      "35/35 [==============================] - 35s 641ms/step - loss: 0.6796 - accuracy: 0.5946 - precision: 0.5904 - recall: 0.6179\n",
      "Epoch 2/10\n",
      "35/35 [==============================] - 23s 647ms/step - loss: 0.5344 - accuracy: 0.8089 - precision: 0.8112 - recall: 0.8054\n",
      "Epoch 3/10\n",
      "35/35 [==============================] - 23s 651ms/step - loss: 0.4471 - accuracy: 0.8696 - precision: 0.8696 - recall: 0.8696\n",
      "Epoch 4/10\n",
      "35/35 [==============================] - 23s 651ms/step - loss: 0.4003 - accuracy: 0.8768 - precision: 0.8728 - recall: 0.8821\n",
      "Epoch 5/10\n",
      "35/35 [==============================] - 23s 651ms/step - loss: 0.3666 - accuracy: 0.8848 - precision: 0.8709 - recall: 0.9036\n",
      "Epoch 6/10\n",
      "35/35 [==============================] - 23s 651ms/step - loss: 0.3391 - accuracy: 0.8973 - precision: 0.8938 - recall: 0.9018\n",
      "Epoch 7/10\n",
      "35/35 [==============================] - 23s 651ms/step - loss: 0.3169 - accuracy: 0.8991 - precision: 0.8901 - recall: 0.9107\n",
      "Epoch 8/10\n",
      "35/35 [==============================] - 23s 652ms/step - loss: 0.2984 - accuracy: 0.9062 - precision: 0.8916 - recall: 0.9250\n",
      "Epoch 9/10\n",
      "35/35 [==============================] - 23s 653ms/step - loss: 0.2906 - accuracy: 0.9009 - precision: 0.8946 - recall: 0.9089\n",
      "Epoch 10/10\n",
      "35/35 [==============================] - 23s 652ms/step - loss: 0.2782 - accuracy: 0.9116 - precision: 0.8954 - recall: 0.9321\n"
     ]
    },
    {
     "data": {
      "text/plain": [
       "<keras.callbacks.History at 0x7fd8c05b78d0>"
      ]
     },
     "execution_count": 30,
     "metadata": {},
     "output_type": "execute_result"
    }
   ],
   "source": [
    "model.fit(X_train,y_train,epochs=10)"
   ]
  },
  {
   "cell_type": "markdown",
   "metadata": {},
   "source": [
    "## Model Evaluation"
   ]
  },
  {
   "cell_type": "code",
   "execution_count": 31,
   "metadata": {
    "colab": {
     "base_uri": "https://localhost:8080/"
    },
    "id": "h_4l_cf5FDXP",
    "outputId": "577eae48-a335-430c-a39c-9e42a2d531a4"
   },
   "outputs": [
    {
     "name": "stdout",
     "output_type": "stream",
     "text": [
      "12/12 [==============================] - 12s 728ms/step - loss: 0.2588 - accuracy: 0.9278 - precision: 0.9301 - recall: 0.9251\n"
     ]
    },
    {
     "data": {
      "text/plain": [
       "[0.25880342721939087,\n",
       " 0.9278075098991394,\n",
       " 0.9301075339317322,\n",
       " 0.9251337051391602]"
      ]
     },
     "execution_count": 31,
     "metadata": {},
     "output_type": "execute_result"
    }
   ],
   "source": [
    "model.evaluate(X_test,y_test)"
   ]
  },
  {
   "cell_type": "code",
   "execution_count": 32,
   "metadata": {
    "colab": {
     "base_uri": "https://localhost:8080/"
    },
    "id": "v3lqRCdOFL7i",
    "outputId": "28e7b271-1618-402c-a4d7-ce2d1c370422"
   },
   "outputs": [
    {
     "data": {
      "text/plain": [
       "array([[0.22311409],\n",
       "       [0.8335916 ],\n",
       "       [0.07953587],\n",
       "       [0.01543867],\n",
       "       [0.61312747],\n",
       "       [0.8494355 ],\n",
       "       [0.04547692],\n",
       "       [0.13222286],\n",
       "       [0.3825523 ],\n",
       "       [0.53974605],\n",
       "       [0.1893307 ],\n",
       "       [0.18295524],\n",
       "       [0.8880081 ],\n",
       "       [0.04944472],\n",
       "       [0.9068391 ],\n",
       "       [0.27388176],\n",
       "       [0.0266439 ],\n",
       "       [0.92005897],\n",
       "       [0.1602833 ],\n",
       "       [0.88634646],\n",
       "       [0.76066387],\n",
       "       [0.13239653],\n",
       "       [0.28572682],\n",
       "       [0.8932794 ],\n",
       "       [0.67154676],\n",
       "       [0.01406435],\n",
       "       [0.7129655 ],\n",
       "       [0.01553317],\n",
       "       [0.1187643 ],\n",
       "       [0.06181314],\n",
       "       [0.06774238],\n",
       "       [0.76712334],\n",
       "       [0.07258305],\n",
       "       [0.09980192],\n",
       "       [0.954451  ],\n",
       "       [0.3179685 ],\n",
       "       [0.8882113 ],\n",
       "       [0.04759173],\n",
       "       [0.1575279 ],\n",
       "       [0.86914223],\n",
       "       [0.8832951 ],\n",
       "       [0.11377354],\n",
       "       [0.88118047],\n",
       "       [0.6906939 ],\n",
       "       [0.09334791],\n",
       "       [0.7209426 ],\n",
       "       [0.66440177],\n",
       "       [0.05271322],\n",
       "       [0.2528116 ],\n",
       "       [0.2177454 ],\n",
       "       [0.8917287 ],\n",
       "       [0.10546169],\n",
       "       [0.87061465],\n",
       "       [0.32882857],\n",
       "       [0.12191984],\n",
       "       [0.36886162],\n",
       "       [0.07173057],\n",
       "       [0.6485097 ],\n",
       "       [0.6731438 ],\n",
       "       [0.513231  ],\n",
       "       [0.08317836],\n",
       "       [0.08060856],\n",
       "       [0.8986353 ],\n",
       "       [0.19819818],\n",
       "       [0.7392113 ],\n",
       "       [0.08903071],\n",
       "       [0.9407489 ],\n",
       "       [0.18576102],\n",
       "       [0.8295625 ],\n",
       "       [0.18422236],\n",
       "       [0.8889388 ],\n",
       "       [0.6992358 ],\n",
       "       [0.6155749 ],\n",
       "       [0.7417261 ],\n",
       "       [0.877214  ],\n",
       "       [0.630526  ],\n",
       "       [0.04777218],\n",
       "       [0.22449332],\n",
       "       [0.9485595 ],\n",
       "       [0.94751596],\n",
       "       [0.92705566],\n",
       "       [0.87914497],\n",
       "       [0.01421332],\n",
       "       [0.83561593],\n",
       "       [0.11474395],\n",
       "       [0.01670611],\n",
       "       [0.7628758 ],\n",
       "       [0.4079453 ],\n",
       "       [0.03226458],\n",
       "       [0.09188162],\n",
       "       [0.838737  ],\n",
       "       [0.94565845],\n",
       "       [0.80342484],\n",
       "       [0.26404527],\n",
       "       [0.6248739 ],\n",
       "       [0.49251834],\n",
       "       [0.12962665],\n",
       "       [0.47668976],\n",
       "       [0.8000461 ],\n",
       "       [0.02698541],\n",
       "       [0.88724774],\n",
       "       [0.01013799],\n",
       "       [0.88466245],\n",
       "       [0.2979371 ],\n",
       "       [0.61444914],\n",
       "       [0.8369364 ],\n",
       "       [0.84500366],\n",
       "       [0.08589583],\n",
       "       [0.07289847],\n",
       "       [0.43814126],\n",
       "       [0.84643626],\n",
       "       [0.8033629 ],\n",
       "       [0.9410077 ],\n",
       "       [0.745878  ],\n",
       "       [0.12288496],\n",
       "       [0.94482374],\n",
       "       [0.50887996],\n",
       "       [0.07701583],\n",
       "       [0.9265647 ],\n",
       "       [0.57991827],\n",
       "       [0.71054727],\n",
       "       [0.5830774 ],\n",
       "       [0.8917161 ],\n",
       "       [0.05884212],\n",
       "       [0.92943305],\n",
       "       [0.9292311 ],\n",
       "       [0.09262159],\n",
       "       [0.03568284],\n",
       "       [0.43019018],\n",
       "       [0.0180468 ],\n",
       "       [0.02578817],\n",
       "       [0.6171921 ],\n",
       "       [0.6814081 ],\n",
       "       [0.25229734],\n",
       "       [0.20025755],\n",
       "       [0.37315926],\n",
       "       [0.48191613],\n",
       "       [0.9802319 ],\n",
       "       [0.65022606],\n",
       "       [0.12946972],\n",
       "       [0.01234099],\n",
       "       [0.91905123],\n",
       "       [0.04036378],\n",
       "       [0.8944253 ],\n",
       "       [0.024906  ],\n",
       "       [0.78674626],\n",
       "       [0.7078099 ],\n",
       "       [0.8121549 ],\n",
       "       [0.752298  ],\n",
       "       [0.69638246],\n",
       "       [0.7478591 ],\n",
       "       [0.858422  ],\n",
       "       [0.0850473 ],\n",
       "       [0.77168685],\n",
       "       [0.06436902],\n",
       "       [0.31704235],\n",
       "       [0.7586304 ],\n",
       "       [0.08729233],\n",
       "       [0.77942306],\n",
       "       [0.9721176 ],\n",
       "       [0.01888019],\n",
       "       [0.8047918 ],\n",
       "       [0.1602833 ],\n",
       "       [0.45911968],\n",
       "       [0.15988372],\n",
       "       [0.1111396 ],\n",
       "       [0.9431856 ],\n",
       "       [0.94851285],\n",
       "       [0.71845967],\n",
       "       [0.88566613],\n",
       "       [0.7314437 ],\n",
       "       [0.76308453],\n",
       "       [0.6923636 ],\n",
       "       [0.4605546 ],\n",
       "       [0.13769387],\n",
       "       [0.7478591 ],\n",
       "       [0.42863053],\n",
       "       [0.79710466],\n",
       "       [0.80558056],\n",
       "       [0.982235  ],\n",
       "       [0.0085809 ],\n",
       "       [0.60478705],\n",
       "       [0.11630786],\n",
       "       [0.929178  ],\n",
       "       [0.8057953 ],\n",
       "       [0.89333075],\n",
       "       [0.11545046],\n",
       "       [0.60231227],\n",
       "       [0.5104415 ],\n",
       "       [0.77745694],\n",
       "       [0.02397744],\n",
       "       [0.03005993],\n",
       "       [0.0676735 ],\n",
       "       [0.36203685],\n",
       "       [0.39338347],\n",
       "       [0.61617696],\n",
       "       [0.23266529],\n",
       "       [0.950661  ],\n",
       "       [0.22046107],\n",
       "       [0.24399777],\n",
       "       [0.06529812],\n",
       "       [0.16394196],\n",
       "       [0.95398307],\n",
       "       [0.7114706 ],\n",
       "       [0.06143088],\n",
       "       [0.3189853 ],\n",
       "       [0.8516681 ],\n",
       "       [0.1094465 ],\n",
       "       [0.2309794 ],\n",
       "       [0.9263934 ],\n",
       "       [0.9054397 ],\n",
       "       [0.07844663],\n",
       "       [0.00976601],\n",
       "       [0.07938242],\n",
       "       [0.9329188 ],\n",
       "       [0.77634484],\n",
       "       [0.9042125 ],\n",
       "       [0.15539734],\n",
       "       [0.7502827 ],\n",
       "       [0.9720542 ],\n",
       "       [0.9116419 ],\n",
       "       [0.02104511],\n",
       "       [0.08973733],\n",
       "       [0.7257671 ],\n",
       "       [0.13241076],\n",
       "       [0.16356097],\n",
       "       [0.6230696 ],\n",
       "       [0.25427982],\n",
       "       [0.04931366],\n",
       "       [0.08292129],\n",
       "       [0.02775256],\n",
       "       [0.93372387],\n",
       "       [0.93742514],\n",
       "       [0.07953587],\n",
       "       [0.04794449],\n",
       "       [0.6573801 ],\n",
       "       [0.8942526 ],\n",
       "       [0.33825022],\n",
       "       [0.5626842 ],\n",
       "       [0.03782183],\n",
       "       [0.79884005],\n",
       "       [0.17494051],\n",
       "       [0.05416812],\n",
       "       [0.07369343],\n",
       "       [0.88640857],\n",
       "       [0.8851586 ],\n",
       "       [0.9332368 ],\n",
       "       [0.22810438],\n",
       "       [0.08437062],\n",
       "       [0.9011002 ],\n",
       "       [0.27481169],\n",
       "       [0.56911266],\n",
       "       [0.41206887],\n",
       "       [0.82642865],\n",
       "       [0.07811905],\n",
       "       [0.9047533 ],\n",
       "       [0.7488993 ],\n",
       "       [0.5971694 ],\n",
       "       [0.04988677],\n",
       "       [0.57070684],\n",
       "       [0.3519061 ],\n",
       "       [0.1958064 ],\n",
       "       [0.8806501 ],\n",
       "       [0.09689258],\n",
       "       [0.8874251 ],\n",
       "       [0.03362267],\n",
       "       [0.19798905],\n",
       "       [0.9332368 ],\n",
       "       [0.2416877 ],\n",
       "       [0.84500366],\n",
       "       [0.04092491],\n",
       "       [0.60856676],\n",
       "       [0.70031077],\n",
       "       [0.75156677],\n",
       "       [0.01846771],\n",
       "       [0.9722926 ],\n",
       "       [0.9617525 ],\n",
       "       [0.8375009 ],\n",
       "       [0.07208852],\n",
       "       [0.0941667 ],\n",
       "       [0.7774653 ],\n",
       "       [0.04168439],\n",
       "       [0.06805992],\n",
       "       [0.34848958],\n",
       "       [0.20149527],\n",
       "       [0.75972337],\n",
       "       [0.39889312],\n",
       "       [0.07969034],\n",
       "       [0.9533681 ],\n",
       "       [0.6990627 ],\n",
       "       [0.6126573 ],\n",
       "       [0.30248144],\n",
       "       [0.85266036],\n",
       "       [0.89618325],\n",
       "       [0.77856284],\n",
       "       [0.8658928 ],\n",
       "       [0.9708062 ],\n",
       "       [0.40961313],\n",
       "       [0.8917808 ],\n",
       "       [0.09291647],\n",
       "       [0.9264999 ],\n",
       "       [0.03440476],\n",
       "       [0.05515872],\n",
       "       [0.17132862],\n",
       "       [0.6233186 ],\n",
       "       [0.08257572],\n",
       "       [0.6610031 ],\n",
       "       [0.05323057],\n",
       "       [0.8295625 ],\n",
       "       [0.0294413 ],\n",
       "       [0.94576627],\n",
       "       [0.20135115],\n",
       "       [0.81940824],\n",
       "       [0.9190058 ],\n",
       "       [0.29046795],\n",
       "       [0.30779323],\n",
       "       [0.07953587],\n",
       "       [0.88791394],\n",
       "       [0.05612686],\n",
       "       [0.54865944],\n",
       "       [0.721002  ],\n",
       "       [0.36653706],\n",
       "       [0.8066505 ],\n",
       "       [0.41102126],\n",
       "       [0.6937146 ],\n",
       "       [0.13884133],\n",
       "       [0.92233175],\n",
       "       [0.09945465],\n",
       "       [0.13721323],\n",
       "       [0.10755445],\n",
       "       [0.08060856],\n",
       "       [0.86996377],\n",
       "       [0.7215857 ],\n",
       "       [0.8919014 ],\n",
       "       [0.9711828 ],\n",
       "       [0.11148472],\n",
       "       [0.9233319 ],\n",
       "       [0.21658486],\n",
       "       [0.6072106 ],\n",
       "       [0.16276303],\n",
       "       [0.26687002],\n",
       "       [0.1121177 ],\n",
       "       [0.03181698],\n",
       "       [0.37095162],\n",
       "       [0.95925003],\n",
       "       [0.12740444],\n",
       "       [0.39394507],\n",
       "       [0.6602844 ],\n",
       "       [0.8570079 ],\n",
       "       [0.74601454],\n",
       "       [0.39889312],\n",
       "       [0.92443043],\n",
       "       [0.9637575 ],\n",
       "       [0.37188882],\n",
       "       [0.4034697 ],\n",
       "       [0.8337108 ],\n",
       "       [0.07611397],\n",
       "       [0.9638337 ],\n",
       "       [0.94828933],\n",
       "       [0.974243  ],\n",
       "       [0.07298132],\n",
       "       [0.11393922],\n",
       "       [0.0291159 ],\n",
       "       [0.6167812 ],\n",
       "       [0.15764292],\n",
       "       [0.10363243],\n",
       "       [0.96653074],\n",
       "       [0.8804108 ],\n",
       "       [0.47854906],\n",
       "       [0.08448632],\n",
       "       [0.08824079],\n",
       "       [0.21992822],\n",
       "       [0.12339357],\n",
       "       [0.9102419 ]], dtype=float32)"
      ]
     },
     "execution_count": 32,
     "metadata": {},
     "output_type": "execute_result"
    }
   ],
   "source": [
    "y_predicted = model.predict(X_test)\n",
    "y_predicted"
   ]
  },
  {
   "cell_type": "code",
   "execution_count": 33,
   "metadata": {
    "id": "fFyboUh8FdAB"
   },
   "outputs": [],
   "source": [
    "y_predicted = y_predicted.flatten()"
   ]
  },
  {
   "cell_type": "code",
   "execution_count": 35,
   "metadata": {
    "colab": {
     "base_uri": "https://localhost:8080/"
    },
    "id": "WOQw1eN4FmeI",
    "outputId": "a521c9b9-23e4-4ab6-df4d-fa6169106cfa"
   },
   "outputs": [
    {
     "data": {
      "text/plain": [
       "array([0, 1, 0, 0, 1, 1, 0, 0, 0, 1, 0, 0, 1, 0, 1, 0, 0, 1, 0, 1, 1, 0,\n",
       "       0, 1, 1, 0, 1, 0, 0, 0, 0, 1, 0, 0, 1, 0, 1, 0, 0, 1, 1, 0, 1, 1,\n",
       "       0, 1, 1, 0, 0, 0, 1, 0, 1, 0, 0, 0, 0, 1, 1, 1, 0, 0, 1, 0, 1, 0,\n",
       "       1, 0, 1, 0, 1, 1, 1, 1, 1, 1, 0, 0, 1, 1, 1, 1, 0, 1, 0, 0, 1, 0,\n",
       "       0, 0, 1, 1, 1, 0, 1, 0, 0, 0, 1, 0, 1, 0, 1, 0, 1, 1, 1, 0, 0, 0,\n",
       "       1, 1, 1, 1, 0, 1, 1, 0, 1, 1, 1, 1, 1, 0, 1, 1, 0, 0, 0, 0, 0, 1,\n",
       "       1, 0, 0, 0, 0, 1, 1, 0, 0, 1, 0, 1, 0, 1, 1, 1, 1, 1, 1, 1, 0, 1,\n",
       "       0, 0, 1, 0, 1, 1, 0, 1, 0, 0, 0, 0, 1, 1, 1, 1, 1, 1, 1, 0, 0, 1,\n",
       "       0, 1, 1, 1, 0, 1, 0, 1, 1, 1, 0, 1, 1, 1, 0, 0, 0, 0, 0, 1, 0, 1,\n",
       "       0, 0, 0, 0, 1, 1, 0, 0, 1, 0, 0, 1, 1, 0, 0, 0, 1, 1, 1, 0, 1, 1,\n",
       "       1, 0, 0, 1, 0, 0, 1, 0, 0, 0, 0, 1, 1, 0, 0, 1, 1, 0, 1, 0, 1, 0,\n",
       "       0, 0, 1, 1, 1, 0, 0, 1, 0, 1, 0, 1, 0, 1, 1, 1, 0, 1, 0, 0, 1, 0,\n",
       "       1, 0, 0, 1, 0, 1, 0, 1, 1, 1, 0, 1, 1, 1, 0, 0, 1, 0, 0, 0, 0, 1,\n",
       "       0, 0, 1, 1, 1, 0, 1, 1, 1, 1, 1, 0, 1, 0, 1, 0, 0, 0, 1, 0, 1, 0,\n",
       "       1, 0, 1, 0, 1, 1, 0, 0, 0, 1, 0, 1, 1, 0, 1, 0, 1, 0, 1, 0, 0, 0,\n",
       "       0, 1, 1, 1, 1, 0, 1, 0, 1, 0, 0, 0, 0, 0, 1, 0, 0, 1, 1, 1, 0, 1,\n",
       "       1, 0, 0, 1, 0, 1, 1, 1, 0, 0, 0, 1, 0, 0, 1, 1, 0, 0, 0, 0, 0, 1])"
      ]
     },
     "execution_count": 35,
     "metadata": {},
     "output_type": "execute_result"
    }
   ],
   "source": [
    "import numpy as np\n",
    "\n",
    "y_predicted = np.where(y_predicted > 0.5, 1, 0)\n",
    "y_predicted"
   ]
  },
  {
   "cell_type": "code",
   "execution_count": 36,
   "metadata": {
    "colab": {
     "base_uri": "https://localhost:8080/"
    },
    "id": "xCOiRGmYGB1W",
    "outputId": "d0317ca4-089c-4957-9ee0-3bd124c1fbc4"
   },
   "outputs": [
    {
     "data": {
      "text/plain": [
       "array([[174,  13],\n",
       "       [ 14, 173]])"
      ]
     },
     "execution_count": 36,
     "metadata": {},
     "output_type": "execute_result"
    }
   ],
   "source": [
    "from sklearn.metrics import confusion_matrix, classification_report\n",
    "\n",
    "cm = confusion_matrix(y_test, y_predicted)\n",
    "cm \n"
   ]
  },
  {
   "cell_type": "code",
   "execution_count": 37,
   "metadata": {
    "colab": {
     "base_uri": "https://localhost:8080/",
     "height": 297
    },
    "id": "3Eqt2zHXGR4c",
    "outputId": "c15dd2f9-9aa0-4a5f-d1f9-7c90e6724aee"
   },
   "outputs": [
    {
     "data": {
      "text/plain": [
       "Text(33.0, 0.5, 'Truth')"
      ]
     },
     "execution_count": 37,
     "metadata": {},
     "output_type": "execute_result"
    },
    {
     "data": {
      "image/png": "[encoded data removed]",
      "text/plain": [
       "<Figure size 432x288 with 2 Axes>"
      ]
     },
     "metadata": {
      "needs_background": "light"
     },
     "output_type": "display_data"
    }
   ],
   "source": [
    "from matplotlib import pyplot as plt\n",
    "import seaborn as sn\n",
    "sn.heatmap(cm, annot=True, fmt='d')\n",
    "plt.xlabel('Predicted')\n",
    "plt.ylabel('Truth')"
   ]
  },
  {
   "cell_type": "code",
   "execution_count": 38,
   "metadata": {
    "colab": {
     "base_uri": "https://localhost:8080/"
    },
    "id": "bBcoOqzKGcdJ",
    "outputId": "a23fe3dc-6898-47d5-da10-2e7506a0c3e1"
   },
   "outputs": [
    {
     "name": "stdout",
     "output_type": "stream",
     "text": [
      "              precision    recall  f1-score   support\n",
      "\n",
      "           0       0.93      0.93      0.93       187\n",
      "           1       0.93      0.93      0.93       187\n",
      "\n",
      "    accuracy                           0.93       374\n",
      "   macro avg       0.93      0.93      0.93       374\n",
      "weighted avg       0.93      0.93      0.93       374\n",
      "\n"
     ]
    }
   ],
   "source": [
    "print(classification_report(y_test, y_predicted))"
   ]
  },
  {
   "cell_type": "markdown",
   "metadata": {
    "id": "gOgiEFQEFyWk"
   },
   "source": [
    "## Inference"
   ]
  },
  {
   "cell_type": "code",
   "execution_count": 34,
   "metadata": {
    "colab": {
     "base_uri": "https://localhost:8080/"
    },
    "id": "KlccqhKkFxm5",
    "outputId": "6c250500-99b8-4da1-b00b-e7c2f33e7778"
   },
   "outputs": [
    {
     "data": {
      "text/plain": [
       "array([[0.67986864],\n",
       "       [0.78059757],\n",
       "       [0.6914947 ],\n",
       "       [0.15506883],\n",
       "       [0.09836391]], dtype=float32)"
      ]
     },
     "execution_count": 34,
     "metadata": {},
     "output_type": "execute_result"
    }
   ],
   "source": [
    "reviews = [\n",
    "    'Enter a chance to win $5000, hurry up, offer valid until march 31, 2021',\n",
    "    'You are awarded a SiPix Digital Camera! call 09061221061 from landline. Delivery within 28days. T Cs Box177. M221BP. 2yr warranty. 150ppm. 16 . p pÂ£3.99',\n",
    "    'it to 80488. Your 500 free text messages are valid until 31 December 2005.',\n",
    "    'Hey Sam, Are you coming for a cricket game tomorrow',\n",
    "    \"Why don't you wait 'til at least wednesday to see if you get your .\"\n",
    "]\n",
    "model.predict(reviews)"
   ]
  },
  {
   "cell_type": "markdown",
   "metadata": {
    "id": "DarJm9zHGkld"
   },
   "source": [
    "## Save the model"
   ]
  },
  {
   "cell_type": "code",
   "execution_count": 39,
   "metadata": {
    "id": "fgCjyA8AGkJg"
   },
   "outputs": [],
   "source": [
    "model.save(\"Spam_ham_detector_model.h5\")"
   ]
  }
 ],
 "metadata": {
  "accelerator": "GPU",
  "colab": {
   "name": "Text_Classification.ipynb",
   "provenance": []
  },
  "kernelspec": {
   "display_name": "Python 3 (ipykernel)",
   "language": "python",
   "name": "python3"
  },
  "language_info": {
   "codemirror_mode": {
    "name": "ipython",
    "version": 3
   },
   "file_extension": ".py",
   "mimetype": "text/x-python",
   "name": "python",
   "nbconvert_exporter": "python",
   "pygments_lexer": "ipython3",
   "version": "3.9.5"
  }
 },
 "nbformat": 4,
 "nbformat_minor": 1
}
